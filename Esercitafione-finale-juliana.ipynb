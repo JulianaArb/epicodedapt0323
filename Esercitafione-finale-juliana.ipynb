{
 "cells": [
  {
   "cell_type": "code",
   "execution_count": 1,
   "metadata": {},
   "outputs": [],
   "source": [
    "import pandas as pd"
   ]
  },
  {
   "cell_type": "code",
   "execution_count": 6,
   "metadata": {},
   "outputs": [],
   "source": [
    "Covidata = pd.read_csv(\"owid-covid-data.csv\")"
   ]
  },
  {
   "cell_type": "code",
   "execution_count": null,
   "metadata": {},
   "outputs": [],
   "source": [
    "#Si richiede di verificare le dimensioni del dataset e le diciture presenti nell'intestazione."
   ]
  },
  {
   "cell_type": "code",
   "execution_count": 10,
   "metadata": {},
   "outputs": [
    {
     "name": "stdout",
     "output_type": "stream",
     "text": [
      "Dimensioni del dataset:\n",
      "(344798, 67)\n"
     ]
    }
   ],
   "source": [
    "dim = Covidata.shape\n",
    "print(\"Dimensioni del dataset:\")\n",
    "print(dim)"
   ]
  },
  {
   "cell_type": "code",
   "execution_count": 42,
   "metadata": {},
   "outputs": [
    {
     "name": "stdout",
     "output_type": "stream",
     "text": [
      "<class 'pandas.core.frame.DataFrame'>\n",
      "RangeIndex: 344798 entries, 0 to 344797\n",
      "Data columns (total 67 columns):\n",
      " #   Column                                      Non-Null Count   Dtype  \n",
      "---  ------                                      --------------   -----  \n",
      " 0   iso_code                                    344798 non-null  object \n",
      " 1   continent                                   328414 non-null  object \n",
      " 2   location                                    344798 non-null  object \n",
      " 3   date                                        344798 non-null  object \n",
      " 4   total_cases                                 306964 non-null  float64\n",
      " 5   new_cases                                   335338 non-null  float64\n",
      " 6   new_cases_smoothed                          334079 non-null  float64\n",
      " 7   total_deaths                                285503 non-null  float64\n",
      " 8   new_deaths                                  335378 non-null  float64\n",
      " 9   new_deaths_smoothed                         334148 non-null  float64\n",
      " 10  total_cases_per_million                     306964 non-null  float64\n",
      " 11  new_cases_per_million                       335338 non-null  float64\n",
      " 12  new_cases_smoothed_per_million              334079 non-null  float64\n",
      " 13  total_deaths_per_million                    285503 non-null  float64\n",
      " 14  new_deaths_per_million                      335378 non-null  float64\n",
      " 15  new_deaths_smoothed_per_million             334148 non-null  float64\n",
      " 16  reproduction_rate                           184817 non-null  float64\n",
      " 17  icu_patients                                37434 non-null   float64\n",
      " 18  icu_patients_per_million                    37434 non-null   float64\n",
      " 19  hosp_patients                               38639 non-null   float64\n",
      " 20  hosp_patients_per_million                   38639 non-null   float64\n",
      " 21  weekly_icu_admissions                       10128 non-null   float64\n",
      " 22  weekly_icu_admissions_per_million           10128 non-null   float64\n",
      " 23  weekly_hosp_admissions                      23078 non-null   float64\n",
      " 24  weekly_hosp_admissions_per_million          23078 non-null   float64\n",
      " 25  total_tests                                 79387 non-null   float64\n",
      " 26  new_tests                                   75403 non-null   float64\n",
      " 27  total_tests_per_thousand                    79387 non-null   float64\n",
      " 28  new_tests_per_thousand                      75403 non-null   float64\n",
      " 29  new_tests_smoothed                          103965 non-null  float64\n",
      " 30  new_tests_smoothed_per_thousand             103965 non-null  float64\n",
      " 31  positive_rate                               95927 non-null   float64\n",
      " 32  tests_per_case                              94348 non-null   float64\n",
      " 33  tests_units                                 106788 non-null  object \n",
      " 34  total_vaccinations                          78788 non-null   float64\n",
      " 35  people_vaccinated                           75418 non-null   float64\n",
      " 36  people_fully_vaccinated                     72058 non-null   float64\n",
      " 37  total_boosters                              47080 non-null   float64\n",
      " 38  new_vaccinations                            64873 non-null   float64\n",
      " 39  new_vaccinations_smoothed                   179044 non-null  float64\n",
      " 40  total_vaccinations_per_hundred              78788 non-null   float64\n",
      " 41  people_vaccinated_per_hundred               75418 non-null   float64\n",
      " 42  people_fully_vaccinated_per_hundred         72058 non-null   float64\n",
      " 43  total_boosters_per_hundred                  47080 non-null   float64\n",
      " 44  new_vaccinations_smoothed_per_million       179044 non-null  float64\n",
      " 45  new_people_vaccinated_smoothed              178699 non-null  float64\n",
      " 46  new_people_vaccinated_smoothed_per_hundred  178699 non-null  float64\n",
      " 47  stringency_index                            197651 non-null  float64\n",
      " 48  population_density                          292659 non-null  float64\n",
      " 49  median_age                                  272184 non-null  float64\n",
      " 50  aged_65_older                               262651 non-null  float64\n",
      " 51  aged_70_older                               269456 non-null  float64\n",
      " 52  gdp_per_capita                              266743 non-null  float64\n",
      " 53  extreme_poverty                             171883 non-null  float64\n",
      " 54  cardiovasc_death_rate                       267351 non-null  float64\n",
      " 55  diabetes_prevalence                         280952 non-null  float64\n",
      " 56  female_smokers                              200531 non-null  float64\n",
      " 57  male_smokers                                197803 non-null  float64\n",
      " 58  handwashing_facilities                      130950 non-null  float64\n",
      " 59  hospital_beds_per_thousand                  235995 non-null  float64\n",
      " 60  life_expectancy                             317196 non-null  float64\n",
      " 61  human_development_index                     259128 non-null  float64\n",
      " 62  population                                  344798 non-null  float64\n",
      " 63  excess_mortality_cumulative_absolute        11944 non-null   float64\n",
      " 64  excess_mortality_cumulative                 11944 non-null   float64\n",
      " 65  excess_mortality                            11944 non-null   float64\n",
      " 66  excess_mortality_cumulative_per_million     11944 non-null   float64\n",
      "dtypes: float64(62), object(5)\n",
      "memory usage: 176.3+ MB\n"
     ]
    }
   ],
   "source": [
    "Covidata.info()"
   ]
  },
  {
   "cell_type": "code",
   "execution_count": null,
   "metadata": {},
   "outputs": [],
   "source": [
    "#• Si chiede poi per ogni continente di trovare il numero di casi totali avvenuti in quello stesso continente; si chiede di non considerare eventuali locazioni che nel dataset non appartengono ad alcun continente."
   ]
  },
  {
   "cell_type": "code",
   "execution_count": 54,
   "metadata": {},
   "outputs": [
    {
     "name": "stdout",
     "output_type": "stream",
     "text": [
      "Numero di casi totali per continente:\n",
      "continent\n",
      "Africa            13131727.0\n",
      "Asia             300675960.0\n",
      "Europe           249361848.0\n",
      "North America    124472324.0\n",
      "Oceania           14474366.0\n",
      "South America     68839240.0\n",
      "Name: new_cases, dtype: float64\n"
     ]
    }
   ],
   "source": [
    "Covidcontgr = Covidata.groupby([\"continent\"])\n",
    "Casipercont = Covidcontgr.new_cases.sum()\n",
    "print(\"Numero di casi totali per continente:\")\n",
    "print(Casipercont)"
   ]
  },
  {
   "cell_type": "code",
   "execution_count": null,
   "metadata": {},
   "outputs": [],
   "source": [
    "# Sempre riguardo i casi di COVID totali, si chiede di sviluppare una funzione che prenda in input il dataset e due nomi di continenti, e che ne confronti i seguenti relativi descrittori statistici: valori minimo e massimo, media, e percentuale rispetto al numero dei casi totali nel mondo (in questo caso calcolati anche sulle locazioni senza indicazione di continente)."
   ]
  },
  {
   "cell_type": "code",
   "execution_count": 74,
   "metadata": {},
   "outputs": [
    {
     "name": "stdout",
     "output_type": "stream",
     "text": [
      "massimo casi totali:  Europe\n",
      "38997490.0\n",
      "massimo casi totali:  South America\n",
      "37720419.0\n",
      "minimo casi totali:  Europe\n",
      "1.0\n",
      "minimo casi totali:  South America\n",
      "1.0\n",
      "media casi totali:  Europe\n",
      "2374414.8922752053\n",
      "media casi totali:  South America\n",
      "2878005.230146492\n",
      "percentuali Casi: Europe\n",
      "% 7.633859398372541\n",
      "percentuali Casi: South America\n",
      "% 2.1074157232377546\n"
     ]
    }
   ],
   "source": [
    "def Stat_casi_tot(dataset, continente1, continente2):\n",
    "    Groups_cont = dataset.groupby(\"continent\")\n",
    "    Group_cont1 = Groups_cont.get_group(continente1)\n",
    "    Group_cont2 = Groups_cont.get_group(continente2)\n",
    "    print(\"massimo casi totali: \", continente1)\n",
    "    print(Group_cont1.total_cases.max())\n",
    "    print(\"massimo casi totali: \", continente2)\n",
    "    print(Group_cont2.total_cases.max())\n",
    "    print(\"minimo casi totali: \", continente1)\n",
    "    print(Group_cont1.total_cases.min())\n",
    "    print(\"minimo casi totali: \", continente2)\n",
    "    print(Group_cont2.total_cases.min())\n",
    "    print(\"media casi totali: \", continente1)\n",
    "    print(Group_cont1.total_cases.mean())\n",
    "    print(\"media casi totali: \", continente2)\n",
    "    print(Group_cont2.total_cases.mean())\n",
    "    Casi_tot = dataset.new_cases.sum()\n",
    "    Tot_casi_cont1 = Group_cont1.new_cases.sum()\n",
    "    Perc_cont1 = (Tot_casi_cont1/Casi_tot)*100\n",
    "    print(\"percentuali Casi:\", continente1)\n",
    "    print(\"%\", Perc_cont1)\n",
    "    Tot_casi_cont2 = Group_cont2.new_cases.sum()\n",
    "    Perc_cont2 = (Tot_casi_cont2/Casi_tot)*100\n",
    "    print(\"percentuali Casi:\", continente2)\n",
    "    print(\"%\", Perc_cont2)\n",
    "\n",
    "Stat_casi_tot(Covidata, \"Europe\", \"South America\")"
   ]
  },
  {
   "cell_type": "code",
   "execution_count": 96,
   "metadata": {},
   "outputs": [
    {
     "name": "stdout",
     "output_type": "stream",
     "text": [
      "Minimo dei vaccinati totali:\n",
      "continent\n",
      "Africa           0.0\n",
      "Asia             0.0\n",
      "Europe           0.0\n",
      "North America    0.0\n",
      "Oceania          0.0\n",
      "South America    0.0\n",
      "Name: total_vaccinations, dtype: float64\n",
      "Massimo dei vaccinati totali:\n",
      "continent\n",
      "Africa           1.308946e+08\n",
      "Asia             3.491077e+09\n",
      "Europe           1.922215e+08\n",
      "North America    6.767288e+08\n",
      "Oceania          6.549236e+07\n",
      "South America    4.864364e+08\n",
      "Name: total_vaccinations, dtype: float64\n",
      "Media dei vaccinati totali:\n",
      "continent\n",
      "Africa           7.969860e+06\n",
      "Asia             2.192489e+08\n",
      "Europe           2.748985e+07\n",
      "North America    6.357434e+07\n",
      "Oceania          1.248364e+07\n",
      "South America    6.488031e+07\n",
      "Name: total_vaccinations, dtype: float64\n",
      "percentuali Vaccinati totali:\n",
      "% continent\n",
      "Africa            0.224453\n",
      "Asia             14.439324\n",
      "Europe            2.420121\n",
      "North America     1.909152\n",
      "Oceania           0.142554\n",
      "South America     1.615746\n",
      "Name: new_vaccinations, dtype: float64\n"
     ]
    }
   ],
   "source": [
    "def Vaccinazioni_tot(dataset):\n",
    "    Cont_Vacc = dataset.groupby(\"continent\")\n",
    "    print(\"Minimo dei vaccinati totali:\")\n",
    "    print(Cont_Vacc.total_vaccinations.min())\n",
    "    print(\"Massimo dei vaccinati totali:\")\n",
    "    print(Cont_Vacc.total_vaccinations.max())\n",
    "    print(\"Media dei vaccinati totali:\")\n",
    "    print(Cont_Vacc.total_vaccinations.mean())\n",
    "    Cont_Vacc_perc = dataset.new_vaccinations.sum()\n",
    "    Perc_tot_cont = (Cont_Vacc.new_vaccinations.sum()/Cont_Vacc_perc)* 100\n",
    "    print(\"percentuali Vaccinati totali:\")\n",
    "    print(\"%\", Perc_tot_cont)\n",
    "\n",
    "Vaccinazioni_tot(Covidata)\n",
    "    "
   ]
  },
  {
   "cell_type": "code",
   "execution_count": 93,
   "metadata": {},
   "outputs": [
    {
     "name": "stdout",
     "output_type": "stream",
     "text": [
      "massimo casi totali:  Oceania\n",
      "11600795.0\n",
      "minimo casi totali:  Oceania\n",
      "1.0\n",
      "media casi totali:  Oceania\n",
      "319786.7095671982\n",
      "percentuali Casi: Oceania\n",
      "% 0.44311219142305996\n"
     ]
    }
   ],
   "source": [
    "def Stat_casi_tot(dataset, continente3):\n",
    "    Groups_cont = dataset.groupby(\"continent\")\n",
    "    Group_cont3 = Groups_cont.get_group(continente3)\n",
    "    print(\"massimo casi totali: \", continente3)\n",
    "    print(Group_cont3.total_cases.max())\n",
    "    print(\"minimo casi totali: \", continente3)\n",
    "    print(Group_cont3.total_cases.min())\n",
    "    print(\"media casi totali: \", continente3)\n",
    "    print(Group_cont3.total_cases.mean())\n",
    "    Casi_tot = dataset.new_cases.sum()\n",
    "    Tot_casi_cont3 = Group_cont3.new_cases.sum()\n",
    "    Perc_cont3 = (Tot_casi_cont3/Casi_tot)*100\n",
    "    print(\"percentuali Casi:\", continente3)\n",
    "    print(\"%\", Perc_cont3)\n",
    "\n",
    "Stat_casi_tot(Covidata, \"Oceania\")"
   ]
  },
  {
   "cell_type": "code",
   "execution_count": 81,
   "metadata": {},
   "outputs": [],
   "source": [
    "# Data \"l'Analisi di diffusione Covid - 19\" per il quale  abbiamo pututo ricavare all'interno del dataset i dati di casi totali e vaccionazioni totali sui continenti possiamo  definire quanto segue:/\n",
    "#Dallo studio dei casi totali dei vari continenti, in specifico per i continenti  Europa, Sud America e Oceania possiamo notare quanto segue:/\n",
    "#Media dei casi totali Oceania: 319786.7095671982/\n",
    "#Media dei casi totali Sud America: 2878005.230146492/\n",
    "#Media dei casi totali Europa: 2374414.8922752053/\n",
    "#Deduciamo quindi che Tra i Tre continenti presi in esame il continente Oceania ha la più alta media dei casi con 319786.7095671982.\n",
    "\n",
    "#Dallo studio delle vaccinazioni totali dei vari continenti, in specifico per i continenti  Europa, Sud America e Oceania possiamo notare quanto segue:/\n",
    "#Media dei vaccinazioni totali Sud America: 6.488031e+07/\n",
    "#Media dei vaccinazioni totali Europa: 2.748985e+07/\n",
    "#Media dei vaccinazioni totali Oceania: 1.248364e+07/\n",
    "#Deduciamo quindi che Tra i 3 continenti presi in esame il continente Sud America ha la la più alta media di vaccinazioni con 6.488031e+07.\n",
    "\n"
   ]
  }
 ],
 "metadata": {
  "kernelspec": {
   "display_name": "Python 3",
   "language": "python",
   "name": "python3"
  },
  "language_info": {
   "codemirror_mode": {
    "name": "ipython",
    "version": 3
   },
   "file_extension": ".py",
   "mimetype": "text/x-python",
   "name": "python",
   "nbconvert_exporter": "python",
   "pygments_lexer": "ipython3",
   "version": "3.11.5"
  },
  "orig_nbformat": 4
 },
 "nbformat": 4,
 "nbformat_minor": 2
}
